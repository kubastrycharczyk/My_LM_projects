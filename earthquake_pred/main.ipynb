{
 "cells": [
  {
   "cell_type": "code",
   "execution_count": 1,
   "id": "b0cf30c4",
   "metadata": {},
   "outputs": [],
   "source": [
    "from RF_earth import Forest_Predictor"
   ]
  },
  {
   "cell_type": "code",
   "execution_count": 2,
   "id": "0230d850",
   "metadata": {},
   "outputs": [],
   "source": [
    "import pandas as pd\n",
    "import numpy as np\n"
   ]
  },
  {
   "cell_type": "code",
   "execution_count": 3,
   "id": "503572ce",
   "metadata": {},
   "outputs": [],
   "source": [
    "dataframe=pd.read_csv(\"dataset.csv\")\n",
    "target_name = \"Magnitude\""
   ]
  },
  {
   "cell_type": "code",
   "execution_count": 4,
   "id": "2f2e80b2",
   "metadata": {},
   "outputs": [
    {
     "data": {
      "text/plain": [
       "{'MAE': np.float64(0.4263353552437346),\n",
       " 'MSE': np.float64(0.3087935913713184),\n",
       " 'RMSE': np.float64(0.5552154450490114),\n",
       " 'R2': np.float64(0.4721765387710703)}"
      ]
     },
     "execution_count": 4,
     "metadata": {},
     "output_type": "execute_result"
    }
   ],
   "source": [
    "Forest = Forest_Predictor(dataframe,target_name)\n",
    "Forest.train_forest()"
   ]
  }
 ],
 "metadata": {
  "kernelspec": {
   "display_name": "ml_env",
   "language": "python",
   "name": "python3"
  },
  "language_info": {
   "codemirror_mode": {
    "name": "ipython",
    "version": 3
   },
   "file_extension": ".py",
   "mimetype": "text/x-python",
   "name": "python",
   "nbconvert_exporter": "python",
   "pygments_lexer": "ipython3",
   "version": "3.11.13"
  }
 },
 "nbformat": 4,
 "nbformat_minor": 5
}

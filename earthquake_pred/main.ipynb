{
 "cells": [
  {
   "cell_type": "code",
   "execution_count": 1,
   "id": "b0cf30c4",
   "metadata": {},
   "outputs": [],
   "source": [
    "from RF_earth import Forest_Predictor"
   ]
  },
  {
   "cell_type": "code",
   "execution_count": 2,
   "id": "0230d850",
   "metadata": {},
   "outputs": [],
   "source": [
    "import pandas as pd\n",
    "import numpy as np\n"
   ]
  },
  {
   "cell_type": "code",
   "execution_count": 3,
   "id": "503572ce",
   "metadata": {},
   "outputs": [],
   "source": [
    "dataframe=pd.read_csv(\"dataset.csv\")\n",
    "target_name = \"Magnitude\""
   ]
  },
  {
   "cell_type": "code",
   "execution_count": 4,
   "id": "2f2e80b2",
   "metadata": {},
   "outputs": [
    {
     "data": {
      "text/plain": [
       "array([0.44808428, 0.44056367, 0.41038038, 0.42682416, 0.52968668])"
      ]
     },
     "execution_count": 4,
     "metadata": {},
     "output_type": "execute_result"
    }
   ],
   "source": [
    "Forest = Forest_Predictor(dataframe,target_name)\n",
    "Forest.train_forest()"
   ]
  },
  {
   "cell_type": "code",
   "execution_count": 5,
   "id": "3453ff62",
   "metadata": {},
   "outputs": [
    {
     "data": {
      "text/plain": [
       "{'MAE': 0.4143019499597625,\n",
       " 'MSE': 0.2966636753985461,\n",
       " 'RMSE': 0.5446684086658102,\n",
       " 'R2': 0.5046749001166067}"
      ]
     },
     "execution_count": 5,
     "metadata": {},
     "output_type": "execute_result"
    }
   ],
   "source": [
    "Forest.test_forest()"
   ]
  }
 ],
 "metadata": {
  "kernelspec": {
   "display_name": "data-science",
   "language": "python",
   "name": "python3"
  },
  "language_info": {
   "codemirror_mode": {
    "name": "ipython",
    "version": 3
   },
   "file_extension": ".py",
   "mimetype": "text/x-python",
   "name": "python",
   "nbconvert_exporter": "python",
   "pygments_lexer": "ipython3",
   "version": "3.11.11"
  }
 },
 "nbformat": 4,
 "nbformat_minor": 5
}
